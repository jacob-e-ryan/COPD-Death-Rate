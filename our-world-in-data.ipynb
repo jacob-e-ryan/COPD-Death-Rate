{
 "cells": [
  {
   "cell_type": "markdown",
   "id": "58c41bbc",
   "metadata": {
    "papermill": {
     "duration": 0.003444,
     "end_time": "2024-03-06T12:49:27.167738",
     "exception": false,
     "start_time": "2024-03-06T12:49:27.164294",
     "status": "completed"
    },
    "tags": []
   },
   "source": [
    "This is a notebook concerning the exercise for Junior Data Scientist at Our World In Data. \n",
    "\n",
    "I've been asked to calculate the crude and age-standardised death rate for chronic obstructive pulmonary disease (COPD) in both the United States and Uganda in 2019.\n",
    "\n",
    "In this calculation, I've used the population from July 2019, as to best represent the average population of each country in 2019, rather than taking the population in January 2019 or 2020. For age-standardisation, I've used the WHO World Standard, as outlined in Dataset 2 below. \n",
    "\n",
    "To calculate the crude death rate, I have multiplied the percentage population of each age group by its respective death rate and summed the answers for both the USA and Uganda data. To calculate the age-standardised death rates, I did the same, but instead using the WHO World Standard population percentages rather than using their actual population.\n",
    "\n",
    "In our results, we found that the USA had a much higher crude death rate than Uganda:\n",
    "* USA: 57.2\n",
    "* Uganda: 5.8\n",
    "\n",
    "Looking at the data, though, we see that the USA mostly has a lower death rate for each respective age than Uganda. Looking at the population data, we see that Uganda skews more towards a younger population, whereas the USA skews towards an older population. Since older people are more likely to die from COPD in both datasets, we can see the death rate is much higher in the USA mostly because of an older population. So we expect with age-standardisation for the USA death rate to decrease and the Uganda death rate to increase.\n",
    "\n",
    "In our results, we found the age-standardised death rates per 100,000 people were:\n",
    "* USA: 28.4\n",
    "* Uganda: 28.7\n",
    "\n",
    "As we expected, the age-standardised death rates are much closer than the crude death rate. We see that, in fact, the death rates are fairly close between the two countries, when age is less of a factor.\n",
    "\n",
    "Data Sources:\n",
    "\n",
    "1. UN World Population Prospects (2022) — Population Estimates 1950-2021 (obtained from https://population.un.org/wpp/Download/Standard/CSV/, Population on 01 July, by 5-year age groups.)\n",
    "2. WHO Standard Population — Table 1 in 'Ahmad OB, Boschi-Pinto C, Lopez AD, Murray CJ, Lozano R, Inoue M (2001). Age standardization of rates: a new WHO standard.' (obtained from https://cdn.who.int/media/docs/default-source/gho-documents/global-health-estimates/gpe_discussion_paper_series_paper31_2001_age_standardization_rates.pdf)\n",
    "3. Table of age-specific death rates of COPD (obtained from https://owid.notion.site/Data-analysis-exercise-Our-World-in-Data-Junior-Data-Scientist-application-ab287a3c07264b4d91aadc436021b8c0)"
   ]
  },
  {
   "cell_type": "markdown",
   "id": "1f38dab5",
   "metadata": {
    "papermill": {
     "duration": 0.002392,
     "end_time": "2024-03-06T12:49:27.172894",
     "exception": false,
     "start_time": "2024-03-06T12:49:27.170502",
     "status": "completed"
    },
    "tags": []
   },
   "source": [
    "Firstly, let's load our data and see what we're working with."
   ]
  },
  {
   "cell_type": "code",
   "execution_count": 1,
   "id": "24702251",
   "metadata": {
    "_cell_guid": "b1076dfc-b9ad-4769-8c92-a6c4dae69d19",
    "_uuid": "8f2839f25d086af736a60e9eeb907d3b93b6e0e5",
    "execution": {
     "iopub.execute_input": "2024-03-06T12:49:27.180273Z",
     "iopub.status.busy": "2024-03-06T12:49:27.179848Z",
     "iopub.status.idle": "2024-03-06T12:49:30.266728Z",
     "shell.execute_reply": "2024-03-06T12:49:30.265157Z"
    },
    "papermill": {
     "duration": 3.093661,
     "end_time": "2024-03-06T12:49:30.269057",
     "exception": false,
     "start_time": "2024-03-06T12:49:27.175396",
     "status": "completed"
    },
    "tags": []
   },
   "outputs": [
    {
     "name": "stdout",
     "output_type": "stream",
     "text": [
      "/kaggle/input/our-world-in-data-datasets/WHO Standard Population Age Standardization.csv\n",
      "/kaggle/input/our-world-in-data-datasets/Age Specific Death Rates of COPD.csv\n",
      "/kaggle/input/our-world-in-data-datasets/WPP2022_PopulationBySingleAgeSex_Medium_1950-2021.csv\n",
      "/kaggle/input/our-world-in-data-datasets/WPP2022_PopulationByAge5GroupSex_Medium/WPP2022_PopulationByAge5GroupSex_Medium.csv\n"
     ]
    },
    {
     "name": "stderr",
     "output_type": "stream",
     "text": [
      "/tmp/ipykernel_18/457201035.py:9: DtypeWarning: Columns (2,3,4) have mixed types. Specify dtype option on import or set low_memory=False.\n",
      "  dfPopulation = pd.read_csv('/kaggle/input/our-world-in-data-datasets/WPP2022_PopulationByAge5GroupSex_Medium/WPP2022_PopulationByAge5GroupSex_Medium.csv')\n"
     ]
    },
    {
     "name": "stdout",
     "output_type": "stream",
     "text": [
      "Dataset 1: UN World Population Prospects (2022) — Population Estimates 1950-2021\n",
      "   SortOrder  LocID Notes ISO3_code ISO2_code  SDMX_code  LocTypeID  \\\n",
      "0          1    900   NaN       NaN       NaN        1.0          1   \n",
      "1          1    900   NaN       NaN       NaN        1.0          1   \n",
      "2          1    900   NaN       NaN       NaN        1.0          1   \n",
      "3          1    900   NaN       NaN       NaN        1.0          1   \n",
      "4          1    900   NaN       NaN       NaN        1.0          1   \n",
      "\n",
      "  LocTypeName  ParentID Location  VarID Variant  Time  MidPeriod AgeGrp  \\\n",
      "0       World         0    World      2  Medium  1950       1950    0-4   \n",
      "1       World         0    World      2  Medium  1950       1950    5-9   \n",
      "2       World         0    World      2  Medium  1950       1950  10-14   \n",
      "3       World         0    World      2  Medium  1950       1950  15-19   \n",
      "4       World         0    World      2  Medium  1950       1950  20-24   \n",
      "\n",
      "   AgeGrpStart  AgeGrpSpan     PopMale   PopFemale    PopTotal  \n",
      "0            0           5  174647.391  167229.405  341876.795  \n",
      "1            5           5  136914.008  130816.575  267730.584  \n",
      "2           10           5  132112.875  125967.993  258080.868  \n",
      "3           15           5  120512.860  116660.508  237173.367  \n",
      "4           20           5  111019.768  109095.897  220115.665  \n",
      "Dataset 2: WHO Standard Population — Table 1 in 'Ahmad OB, Boschi-Pinto C, Lopez AD, Murray CJ, Lozano R, Inoue M (2001). Age standardization of rates: a new WHO standard.'\n",
      "  Age group  Segi (“world”)  standard Scandinavian (“European”) standard  \\\n",
      "0       0-4            12.0                                          8.0   \n",
      "1       5-9            10.0                                          7.0   \n",
      "2     10-14             9.0                                          7.0   \n",
      "3     15-19             9.0                                          7.0   \n",
      "4     20-24             8.0                                          7.0   \n",
      "\n",
      "   WHO World Standard  \n",
      "0                8.86  \n",
      "1                8.69  \n",
      "2                8.60  \n",
      "3                8.47  \n",
      "4                8.22  \n",
      "Dataset 3: Table of age-specific death rates of COPD:\n",
      "  Age group (years)  Death rate United States 2019  Death rate Uganda 2019\n",
      "0               0-4                           0.04                    0.40\n",
      "1               5-9                           0.02                    0.17\n",
      "2             10-14                           0.02                    0.07\n",
      "3             15-19                           0.02                    0.23\n",
      "4             20-24                           0.06                    0.38\n"
     ]
    }
   ],
   "source": [
    "import numpy as np\n",
    "import pandas as pd \n",
    "\n",
    "import os\n",
    "for dirname, _, filenames in os.walk('/kaggle/input'):\n",
    "    for filename in filenames:\n",
    "        print(os.path.join(dirname, filename))\n",
    "        \n",
    "dfPopulation = pd.read_csv('/kaggle/input/our-world-in-data-datasets/WPP2022_PopulationByAge5GroupSex_Medium/WPP2022_PopulationByAge5GroupSex_Medium.csv')\n",
    "dfAgeStandard = pd.read_csv('/kaggle/input/our-world-in-data-datasets/WHO Standard Population Age Standardization.csv')\n",
    "dfAgeDeath = pd.read_csv('/kaggle/input/our-world-in-data-datasets/Age Specific Death Rates of COPD.csv')\n",
    "\n",
    "print('Dataset 1: UN World Population Prospects (2022) — Population Estimates 1950-2021')\n",
    "print(dfPopulation.head())\n",
    "print(\"Dataset 2: WHO Standard Population — Table 1 in 'Ahmad OB, Boschi-Pinto C, Lopez AD, Murray CJ, Lozano R, Inoue M (2001). Age standardization of rates: a new WHO standard.'\")\n",
    "print(dfAgeStandard.head())\n",
    "print(\"Dataset 3: Table of age-specific death rates of COPD:\")\n",
    "print(dfAgeDeath.head())"
   ]
  },
  {
   "cell_type": "markdown",
   "id": "0f2acbd2",
   "metadata": {
    "papermill": {
     "duration": 0.002777,
     "end_time": "2024-03-06T12:49:30.275089",
     "exception": false,
     "start_time": "2024-03-06T12:49:30.272312",
     "status": "completed"
    },
    "tags": []
   },
   "source": [
    "We've got a lot of data in Dataset 1 so we need to clean it up to only the data we need. Our death rate data is from 2019 so we only need population data from 2019. The population data also includes up to ages 100+ whereas our other data only includes up to 85+, let's correct this. Finally we add a percentage of each population to aid in calculation."
   ]
  },
  {
   "cell_type": "code",
   "execution_count": 2,
   "id": "36e6ab4a",
   "metadata": {
    "execution": {
     "iopub.execute_input": "2024-03-06T12:49:30.282713Z",
     "iopub.status.busy": "2024-03-06T12:49:30.282356Z",
     "iopub.status.idle": "2024-03-06T12:49:30.356173Z",
     "shell.execute_reply": "2024-03-06T12:49:30.354015Z"
    },
    "papermill": {
     "duration": 0.080674,
     "end_time": "2024-03-06T12:49:30.358782",
     "exception": false,
     "start_time": "2024-03-06T12:49:30.278108",
     "status": "completed"
    },
    "tags": []
   },
   "outputs": [
    {
     "name": "stdout",
     "output_type": "stream",
     "text": [
      "Ages and Populations in USA:\n",
      "   AgeGrp   PopTotal  PopPercent\n",
      "0     0-4  19848.556    0.059370\n",
      "1     5-9  20697.075    0.061908\n",
      "2   10-14  22092.167    0.066081\n",
      "3   15-19  21895.123    0.065492\n",
      "4   20-24  21871.808    0.065422\n",
      "5   25-29  23406.928    0.070014\n",
      "6   30-34  22842.151    0.068324\n",
      "7   35-39  22296.952    0.066694\n",
      "8   40-44  20694.555    0.061901\n",
      "9   45-49  21244.258    0.063545\n",
      "10  50-54  21346.434    0.063850\n",
      "11  55-59  22347.500    0.066845\n",
      "12  60-64  20941.064    0.062638\n",
      "13  65-69  17500.872    0.052348\n",
      "14  70-74  13688.595    0.040945\n",
      "15  75-79   9272.809    0.027736\n",
      "16  80-84   6118.867    0.018302\n",
      "21    85+   6213.954    0.018587\n",
      "Ages and Populations in Uganda:\n",
      "   AgeGrp  PopTotal  PopPercent\n",
      "0     0-4  7328.968    0.170643\n",
      "1     5-9  6614.421    0.154006\n",
      "2   10-14  5899.400    0.137358\n",
      "3   15-19  5151.082    0.119935\n",
      "4   20-24  4348.173    0.101240\n",
      "5   25-29  3499.504    0.081480\n",
      "6   30-34  2618.559    0.060969\n",
      "7   35-39  1903.175    0.044312\n",
      "8   40-44  1503.669    0.035011\n",
      "9   45-49  1234.979    0.028754\n",
      "10  50-54   952.867    0.022186\n",
      "11  55-59   687.315    0.016003\n",
      "12  60-64   500.298    0.011649\n",
      "13  65-69   353.221    0.008224\n",
      "14  70-74   197.171    0.004591\n",
      "15  75-79    92.682    0.002158\n",
      "16  80-84    43.893    0.001022\n",
      "21    85+    19.702    0.000459\n"
     ]
    }
   ],
   "source": [
    "# only data from 2019\n",
    "dfPopulation = dfPopulation[dfPopulation.Time == 2019]\n",
    "\n",
    "# split into USA and Uganda population data\n",
    "important_columns = ['AgeGrp', 'PopTotal']\n",
    "dfPopUSA = dfPopulation[dfPopulation.Location == 'United States of America'][important_columns].reset_index(drop=True)\n",
    "dfPopUganda = dfPopulation[dfPopulation.Location == 'Uganda'][important_columns].reset_index(drop=True)\n",
    "\n",
    "# add 85+ category to match other data\n",
    "age_ranges = ['85-89','90-94','95-99','100+']\n",
    "dfPopUSA.loc[len(dfPopUSA)] = {'AgeGrp':'85+','PopTotal':sum(dfPopUSA[dfPopUSA.AgeGrp.isin(age_ranges)].PopTotal)}\n",
    "dfPopUSA = dfPopUSA[~dfPopUSA.AgeGrp.isin(age_ranges)]\n",
    "dfPopUganda.loc[len(dfPopUganda)] = {'AgeGrp':'85+','PopTotal':sum(dfPopUganda[dfPopUganda.AgeGrp.isin(age_ranges)].PopTotal)}\n",
    "dfPopUganda = dfPopUganda[~dfPopUganda.AgeGrp.isin(age_ranges)]\n",
    "\n",
    "# calculate population percentage\n",
    "dfPopUSA['PopPercent'] = dfPopUSA.PopTotal / dfPopUSA.PopTotal.sum()\n",
    "dfPopUganda['PopPercent'] = dfPopUganda.PopTotal / dfPopUganda.PopTotal.sum()\n",
    "\n",
    "print('Ages and Populations in USA:')\n",
    "print(dfPopUSA)\n",
    "print('Ages and Populations in Uganda:')\n",
    "print(dfPopUganda)"
   ]
  },
  {
   "cell_type": "markdown",
   "id": "e8522062",
   "metadata": {
    "papermill": {
     "duration": 0.002869,
     "end_time": "2024-03-06T12:49:30.365022",
     "exception": false,
     "start_time": "2024-03-06T12:49:30.362153",
     "status": "completed"
    },
    "tags": []
   },
   "source": [
    "Now we can start our calculation for crude and age-standardised death rates.\n",
    "\n",
    "Crude death rates are calculated by just using the population of the country to produce the average. This is great in principle, but can be skewed by some factors (eg. young adults are in general more likely to survive a disease.)"
   ]
  },
  {
   "cell_type": "code",
   "execution_count": 3,
   "id": "8a9cfcff",
   "metadata": {
    "execution": {
     "iopub.execute_input": "2024-03-06T12:49:30.373265Z",
     "iopub.status.busy": "2024-03-06T12:49:30.372810Z",
     "iopub.status.idle": "2024-03-06T12:49:30.397814Z",
     "shell.execute_reply": "2024-03-06T12:49:30.396104Z"
    },
    "papermill": {
     "duration": 0.032188,
     "end_time": "2024-03-06T12:49:30.400273",
     "exception": false,
     "start_time": "2024-03-06T12:49:30.368085",
     "status": "completed"
    },
    "tags": []
   },
   "outputs": [
    {
     "name": "stdout",
     "output_type": "stream",
     "text": [
      "Crude death rates:\n",
      "USA: 57.2\n",
      "Uganda: 5.8\n"
     ]
    }
   ],
   "source": [
    "# merge with death rate from dataset 3\n",
    "dfPopUSA = pd.merge(dfPopUSA, dfAgeDeath[['Age group (years)', 'Death rate United States 2019']], left_on='AgeGrp',right_on='Age group (years)')[['AgeGrp','PopTotal','PopPercent','Death rate United States 2019']]\n",
    "dfPopUganda = pd.merge(dfPopUganda, dfAgeDeath[['Age group (years)', 'Death rate Uganda 2019']], left_on='AgeGrp',right_on='Age group (years)')[['AgeGrp','PopTotal','PopPercent','Death rate Uganda 2019']]\n",
    "\n",
    "# calculate crude death rates\n",
    "crude_usa = round(sum(dfPopUSA.PopPercent*dfPopUSA['Death rate United States 2019']),1)\n",
    "crude_uganda = round(sum(dfPopUganda.PopPercent*dfPopUganda['Death rate Uganda 2019']),1)\n",
    "\n",
    "print(f'Crude death rates:\\nUSA: {crude_usa}\\nUganda: {crude_uganda}')"
   ]
  },
  {
   "cell_type": "markdown",
   "id": "e265b1c3",
   "metadata": {
    "papermill": {
     "duration": 0.00299,
     "end_time": "2024-03-06T12:49:30.406664",
     "exception": false,
     "start_time": "2024-03-06T12:49:30.403674",
     "status": "completed"
    },
    "tags": []
   },
   "source": [
    "Crude death rates per 100,000 people:\n",
    "* USA: 57.2\n",
    "* Uganda: 5.8\n",
    "\n",
    "As you can see, the crude death rate of COPD in Uganda is much lower than that in the USA. There could be many reasons for this, but notice that, compared to the USA, Uganda's population skews much more to a younger population. We can see that even though Uganda has a higher death rate for most age groups compared to the USA, the death rate in older people is much higher, meaning the USA ends up with a higher crude death rate.\n",
    "\n",
    "Now let's compare this to the age-standardised death rate. This is where we use the same proportion of each age group on each country, rather than relying on the country population. Since Uganda's death rate is higher than the USA in most age groups, we expect the age-standardised rate to be higher.\n",
    "\n",
    "Here, we're using the WHO World Standard population."
   ]
  },
  {
   "cell_type": "code",
   "execution_count": 4,
   "id": "044b482d",
   "metadata": {
    "execution": {
     "iopub.execute_input": "2024-03-06T12:49:30.414840Z",
     "iopub.status.busy": "2024-03-06T12:49:30.414425Z",
     "iopub.status.idle": "2024-03-06T12:49:30.430933Z",
     "shell.execute_reply": "2024-03-06T12:49:30.428999Z"
    },
    "papermill": {
     "duration": 0.023012,
     "end_time": "2024-03-06T12:49:30.432817",
     "exception": false,
     "start_time": "2024-03-06T12:49:30.409805",
     "status": "completed"
    },
    "tags": []
   },
   "outputs": [
    {
     "name": "stdout",
     "output_type": "stream",
     "text": [
      "Age-standardised death rates:\n",
      "USA: 28.4\n",
      "Uganda: 28.7\n"
     ]
    }
   ],
   "source": [
    "dfAgeStandard['WHO World Standard'] /= 100 # convert percent to decimal\n",
    "\n",
    "# merge with dataset 2 to get WHO Age Standard\n",
    "dfPopUSA = pd.merge(dfPopUSA, dfAgeStandard[['Age group', 'WHO World Standard']], left_on='AgeGrp',right_on='Age group')[['AgeGrp','PopTotal','PopPercent','Death rate United States 2019', 'WHO World Standard']]\n",
    "dfPopUganda = pd.merge(dfPopUganda, dfAgeStandard[['Age group', 'WHO World Standard']], left_on='AgeGrp',right_on='Age group')[['AgeGrp','PopTotal','PopPercent','Death rate Uganda 2019', 'WHO World Standard']]\n",
    "\n",
    "# calculate age-standardised death rate\n",
    "age_standard_usa = round(sum(dfPopUSA['WHO World Standard']*dfPopUSA['Death rate United States 2019']),1)\n",
    "age_standard_uganda = round(sum(dfPopUganda['WHO World Standard']*dfPopUganda['Death rate Uganda 2019']),1)\n",
    "\n",
    "print(f'Age-standardised death rates:\\nUSA: {age_standard_usa}\\nUganda: {age_standard_uganda}')"
   ]
  },
  {
   "cell_type": "markdown",
   "id": "64994b2a",
   "metadata": {
    "papermill": {
     "duration": 0.003031,
     "end_time": "2024-03-06T12:49:30.439326",
     "exception": false,
     "start_time": "2024-03-06T12:49:30.436295",
     "status": "completed"
    },
    "tags": []
   },
   "source": [
    "Age-standardised death rates per 100,000 people:\n",
    "* USA: 28.4\n",
    "* Uganda: 28.7\n",
    "\n",
    "\n",
    "This is mostly as we expected. The USA's population skews more towards an older population than the WHO World Standard, so has decreased, and the Uganda population skews more towards a younger population, so has increased."
   ]
  }
 ],
 "metadata": {
  "kaggle": {
   "accelerator": "none",
   "dataSources": [
    {
     "datasetId": 4539009,
     "sourceId": 7761182,
     "sourceType": "datasetVersion"
    }
   ],
   "dockerImageVersionId": 30664,
   "isGpuEnabled": false,
   "isInternetEnabled": true,
   "language": "python",
   "sourceType": "notebook"
  },
  "kernelspec": {
   "display_name": "Python 3",
   "language": "python",
   "name": "python3"
  },
  "language_info": {
   "codemirror_mode": {
    "name": "ipython",
    "version": 3
   },
   "file_extension": ".py",
   "mimetype": "text/x-python",
   "name": "python",
   "nbconvert_exporter": "python",
   "pygments_lexer": "ipython3",
   "version": "3.10.13"
  },
  "papermill": {
   "default_parameters": {},
   "duration": 9.430776,
   "end_time": "2024-03-06T12:49:33.538306",
   "environment_variables": {},
   "exception": null,
   "input_path": "__notebook__.ipynb",
   "output_path": "__notebook__.ipynb",
   "parameters": {},
   "start_time": "2024-03-06T12:49:24.107530",
   "version": "2.5.0"
  }
 },
 "nbformat": 4,
 "nbformat_minor": 5
}
